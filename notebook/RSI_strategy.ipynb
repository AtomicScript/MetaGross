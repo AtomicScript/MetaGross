{
 "cells": [
  {
   "cell_type": "code",
   "execution_count": null,
   "id": "e72f73e4",
   "metadata": {},
   "outputs": [],
   "source": [
    "# Step 1: Import Libraries\n",
    "import pandas as pd\n",
    "import matplotlib.pyplot as plt\n",
    "from ta.momentum import RSIIndicator\n",
    "import ccxt"
   ]
  },
  {
   "cell_type": "code",
   "execution_count": null,
   "id": "4ebf1589",
   "metadata": {},
   "outputs": [],
   "source": [
    "# Connecting to Binance and Fetching 5 min OHLCV\n",
    "exchange = ccxt.binance()\n",
    "symbol = 'BTC/USDT'\n",
    "timeframe = '5m'\n",
    "limit = 1000  # max 1500 per request\n",
    "ohlcv = exchange.fetch_ohlcv(symbol, timeframe=timeframe, limit=limit)\n",
    "\n",
    "# Convert to DataFrame\n",
    "df = pd.DataFrame(ohlcv, columns=['Timestamp', 'Open', 'High', 'Low', 'Close', 'Volume'])\n",
    "df['Timestamp'] = pd.to_datetime(df['Timestamp'], unit='ms')\n",
    "df.set_index('Timestamp', inplace=True)\n",
    "\n",
    "# Calculating RSI \n",
    "rsi = RSIIndicator(close=df[\"Close\"], window=14)\n",
    "df[\"RSI\"] = rsi.rsi()\n",
    "\n",
    "# preview the result\n",
    "print(df[[\"Close\", \"RSI\"]].tail(10))"
   ]
  },
  {
   "cell_type": "code",
   "execution_count": null,
   "id": "1abcf2f8",
   "metadata": {},
   "outputs": [],
   "source": [
    "# Step 4: Building an RSI Strat x >70 sell, x < 30buy Simple\n",
    "## This must include the log and simulates trade \n",
    "in_position = False  # Track if I'm currently in a trade\n",
    "trades = []          # Store all completed trades\n",
    "\n",
    "for i in range(1, len(df)):\n",
    "    rsi = df[\"RSI\"].iloc[i]\n",
    "    price = df[\"Close\"].iloc[i]\n",
    "    time = df.index[i]\n",
    "\n",
    "    if not in_position and rsi < 30:\n",
    "        # Buy signal\n",
    "        entry_price = price\n",
    "        entry_time = time\n",
    "        in_position = True\n",
    "\n",
    "    elif in_position and rsi > 70:\n",
    "        # Sell signal\n",
    "        exit_price = price\n",
    "        exit_time = time\n",
    "        pnl = (exit_price - entry_price) / entry_price  # % gain/loss\n",
    "        trades.append({\n",
    "            \"Entry Time\": entry_time,\n",
    "            \"Exit Time\": exit_time,\n",
    "            \"Entry Price\": entry_price,\n",
    "            \"Exit Price\": exit_price,\n",
    "            \"PnL %\": pnl * 100\n",
    "        })\n",
    "        in_position = False\n"
   ]
  },
  {
   "cell_type": "code",
   "execution_count": null,
   "id": "4e3674e1",
   "metadata": {},
   "outputs": [],
   "source": [
    "trades_df = pd.DataFrame(trades)\n",
    "print(trades_df)"
   ]
  },
  {
   "cell_type": "code",
   "execution_count": null,
   "id": "3d4e741f",
   "metadata": {},
   "outputs": [],
   "source": [
    "df[\"Returns\"] = df[\"Close\"].pct_change()\n",
    "df[\"Position\"] = 0\n",
    "\n",
    "for i in range(len(trades)):\n",
    "    entry = trades[i][\"Entry Time\"]\n",
    "    exit = trades[i][\"Exit Time\"]\n",
    "    df.loc[entry:exit, \"Position\"] = 1\n",
    "\n",
    "df[\"Strategy_Returns\"] = df[\"Returns\"] * df[\"Position\"]"
   ]
  },
  {
   "cell_type": "code",
   "execution_count": null,
   "id": "7445402b",
   "metadata": {},
   "outputs": [],
   "source": [
    "(1 + df[[\"Returns\", \"Strategy_Returns\"]]).cumprod().plot(figsize=(14, 6))\n",
    "plt.title(\"RSI Strategy vs Buy & Hold (BTC/USDT 15m)\")\n",
    "plt.xlabel(\"Time\")\n",
    "plt.ylabel(\"Growth\")\n",
    "plt.grid()\n",
    "plt.show()"
   ]
  },
  {
   "cell_type": "code",
   "execution_count": null,
   "id": "1d3fada7",
   "metadata": {},
   "outputs": [],
   "source": [
    "# Convert PnL % to growth factor (e.g., 2.5% → 1.025)\n",
    "trades_df[\"Growth\"] = 1 + (trades_df[\"PnL %\"] / 100)\n",
    "\n",
    "# Calculate cumulative equity growth\n",
    "trades_df[\"Equity Curve\"] = trades_df[\"Growth\"].cumprod()"
   ]
  },
  {
   "cell_type": "code",
   "execution_count": null,
   "id": "f8b1d42b",
   "metadata": {},
   "outputs": [],
   "source": [
    "import matplotlib.pyplot as plt\n",
    "\n",
    "plt.figure(figsize=(12, 6))\n",
    "plt.plot(trades_df[\"Exit Time\"], trades_df[\"Equity Curve\"], marker='o')\n",
    "plt.title(\"RSI Strategy: Cumulative PnL\")\n",
    "plt.xlabel(\"Exit Time\")\n",
    "plt.ylabel(\"Account Growth (x)\")\n",
    "plt.grid(True)\n",
    "plt.show()"
   ]
  }
 ],
 "metadata": {
  "kernelspec": {
   "display_name": ".venv (3.13.5)",
   "language": "python",
   "name": "python3"
  },
  "language_info": {
   "codemirror_mode": {
    "name": "ipython",
    "version": 3
   },
   "file_extension": ".py",
   "mimetype": "text/x-python",
   "name": "python",
   "nbconvert_exporter": "python",
   "pygments_lexer": "ipython3",
   "version": "3.13.5"
  }
 },
 "nbformat": 4,
 "nbformat_minor": 5
}
